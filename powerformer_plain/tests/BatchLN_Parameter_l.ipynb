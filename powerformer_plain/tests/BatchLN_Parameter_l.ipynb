{
 "cells": [
  {
   "cell_type": "code",
   "execution_count": null,
   "id": "ebd2ad10",
   "metadata": {},
   "outputs": [],
   "source": [
    "import sys, os, torch, warnings\n",
    "import copy\n",
    "sys.path.append(os.path.abspath('..'))\n",
    "from trainers.train import get_glue_res, make_dataset, get_distill_res\n",
    "from trainers.seed import seedval, seeds\n",
    "from trainers.args import *\n",
    "device = torch.device('cuda' if torch.cuda.is_available() else 'cpu')\n",
    "print(f'device = {device}')\n",
    "warnings.filterwarnings('ignore')\n",
    "warnings.filterwarnings('ignore', category=FutureWarning)\n",
    "warnings.filterwarnings('ignore', category=UserWarning)\n",
    "\n",
    "dataset = make_dataset(tasks)\n",
    "l_values = [1+i*0.1 for i in range(4)]\n",
    "\n",
    "res = {}\n",
    "for seed in seeds : \n",
    "    seedval(seed)\n",
    "    res[seed] = {}\n",
    "    for task in tasks :\n",
    "        arg = copy.deepcopy(args)\n",
    "        kwarg1 = copy.deepcopy(baseline)\n",
    "        kwarg2 = copy.deepcopy(ours)\n",
    "        arg['seed'] = seed\n",
    "        \n",
    "        if task == 'boolq' : \n",
    "            kwarg1['sl'], kwarg2['sl'] = 256, 256\n",
    "            arg['batch_size'],arg['per_device_eval_batch_size'] = 32,64\n",
    "        \n",
    "        res[seed][task] = []\n",
    "        model, evals = get_glue_res(dataset[task], task, arg, **kwarg1)\n",
    "        for l in l_values :\n",
    "            kwarg2['l'] = l\n",
    "            loss,evals2 = get_distill_res(dataset[task], task, arg, model, **kwarg2)\n",
    "            res[seed][task].append((evals,loss,evals2))\n",
    "\n",
    "print('-'*150)\n",
    "print('results')\n",
    "for seed in seeds :\n",
    "    for task in tasks :\n",
    "        for i,l in enumerate(l_values) :\n",
    "            print(f'seed : {seed}, task : {task}, l : {l}, res : orig {res[seed][task][i][0]*100:.2f} | loss {res[seed][task][i][1]:.2f} | distill {res[seed][task][i][2]*100:.2f}')"
   ]
  }
 ],
 "metadata": {
  "kernelspec": {
   "display_name": "pdj",
   "language": "python",
   "name": "python3"
  },
  "language_info": {
   "codemirror_mode": {
    "name": "ipython",
    "version": 3
   },
   "file_extension": ".py",
   "mimetype": "text/x-python",
   "name": "python",
   "nbconvert_exporter": "python",
   "pygments_lexer": "ipython3",
   "version": "3.10.14"
  }
 },
 "nbformat": 4,
 "nbformat_minor": 5
}
