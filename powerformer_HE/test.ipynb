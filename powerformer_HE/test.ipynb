{
 "cells": [
  {
   "cell_type": "code",
   "execution_count": null,
   "metadata": {},
   "outputs": [],
   "source": [
    "import torch\n",
    "weights = torch.load('save_data/save.pt', map_location=torch.device('cpu'))\n",
    "import os\n",
    "if not os.path.exists('./pre_weights/') : os.mkdir('./pre_weights/')"
   ]
  },
  {
   "cell_type": "code",
   "execution_count": null,
   "metadata": {},
   "outputs": [],
   "source": [
    "import joblib\n",
    "import numpy as np\n",
    "masks = np.array(joblib.load('./save_data/input_mask0.pkl').cpu(),dtype=np.complex64)\n",
    "input = np.array(joblib.load('./save_data/input0.pkl').cpu(),dtype=np.complex64)\n",
    "output = np.array(joblib.load('./save_data/output0.pkl').cpu(),dtype=np.complex64)\n",
    "label = np.array(joblib.load('./save_data/label0.pkl').cpu())\n",
    "logit = np.array(joblib.load('./save_data/logit0.pkl').cpu(),dtype=np.complex64)\n",
    "wout = np.array(weights['classifier.weight'].T,dtype=np.complex64)\n",
    "bout = np.array(weights['classifier.bias'],dtype=np.complex64)\n",
    "print(masks.shape,input.shape,output.shape,wout.shape,bout.shape)"
   ]
  },
  {
   "cell_type": "code",
   "execution_count": null,
   "metadata": {},
   "outputs": [],
   "source": [
    "from base_fncs import * "
   ]
  },
  {
   "cell_type": "code",
   "execution_count": null,
   "metadata": {},
   "outputs": [],
   "source": [
    "import numpy as np\n",
    "shape = (256,128)\n",
    "\n",
    "def load_full(load=False, verbose=True) :\n",
    "    from layers.bert_layer import bert_full\n",
    "    bert = bert_full(shape,verbose)\n",
    "    if load : \n",
    "        bert.make_weights()\n",
    "        bert.set_bts_range()\n",
    "    else : \n",
    "        bert.make_weights(weights)\n",
    "        bert.set_bts_range(input, masks)\n",
    "    bert.premake()\n",
    "    return bert\n",
    "\n",
    "def full_chk(bert) :\n",
    "    x = input[0,]\n",
    "    mask = masks[0,]\n",
    "    packed_x = [column_wise_pack(x[:,i*256:(i+1)*256], 15) for i in range(3)]   \n",
    "    bert.calc_diff(x,packed_x,mask)\n",
    "\n",
    "def full_test(bert) :\n",
    "    calc = []\n",
    "    tot_times = []\n",
    "    bts_times = []\n",
    "    for i in range(len(input)) :\n",
    "        x = input[i,]\n",
    "        mask = masks[i,]\n",
    "        packed_x = [column_wise_pack(x[:,i*256:(i+1)*256], 15) for i in range(3)]   \n",
    "        now,times,bts_time = bert.forward(packed_x,mask)\n",
    "        tot_times.append(times)\n",
    "        bts_times.append(bts_time)\n",
    "        res = np.concatenate([unpack3(data,shape) for data in now],axis=1)[0,:]\n",
    "        calc.append(res)\n",
    "        if i % 50 == 0 : \n",
    "            print(i)\n",
    "            print(np.mean(tot_times,axis=0),np.mean(bts_times,axis=0))\n",
    "            os.makedirs('./eval_res/')\n",
    "            joblib.dump(calc,f'./eval_res/acc{i}.pkl')\n",
    "            joblib.dump(bts_times,f'./eval_res/layer_time{i}.pkl')\n",
    "            joblib.dump(bts_times,f'./eval_res/bts_time{i}.pkl')\n",
    "    calc = np.array(calc)\n",
    "    tot_times = np.array(tot_times)\n",
    "    bts_times = np.array(bts_times)\n",
    "    joblib.dump(calc,f'./eval_res/acc_total.pkl')\n",
    "    joblib.dump(tot_times,f'./eval_res/layer_time_total.pkl')\n",
    "    joblib.dump(tot_times,f'./eval_res/bts_time_total.pkl')\n",
    "    logit_now = calc @ wout + bout\n",
    "    print('he,plain diff',np.max(np.abs(logit-logit_now)))\n",
    "    acc = np.mean(np.where(label==np.argmax(logit,axis=1),1,0))\n",
    "    print('real acc',acc)  \n",
    "    acc = np.mean(np.where(label==np.argmax(logit_now,axis=1),1,0))\n",
    "    print('he acc',acc)  \n",
    "    print('mean time', np.mean(tot_times,axis=0))"
   ]
  },
  {
   "cell_type": "code",
   "execution_count": null,
   "metadata": {},
   "outputs": [],
   "source": [
    "bert = load_full(load=False,verbose=True) #load model and precompute"
   ]
  },
  {
   "cell_type": "code",
   "execution_count": null,
   "metadata": {},
   "outputs": [],
   "source": [
    "full_chk(bert)  ## check accuracy for first data"
   ]
  },
  {
   "cell_type": "code",
   "execution_count": null,
   "metadata": {},
   "outputs": [],
   "source": [
    "full_test(bert) ## test for full rte data"
   ]
  }
 ],
 "metadata": {
  "kernelspec": {
   "display_name": "pdj",
   "language": "python",
   "name": "python3"
  },
  "language_info": {
   "codemirror_mode": {
    "name": "ipython",
    "version": 3
   },
   "file_extension": ".py",
   "mimetype": "text/x-python",
   "name": "python",
   "nbconvert_exporter": "python",
   "pygments_lexer": "ipython3",
   "version": "3.10.13"
  }
 },
 "nbformat": 4,
 "nbformat_minor": 2
}
